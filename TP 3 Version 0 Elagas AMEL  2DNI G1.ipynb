{
 "cells": [
  {
   "cell_type": "markdown",
   "metadata": {},
   "source": [
    "#### <a style=\"color:#611842\" >Elagas Amel        2 DNI Groupe 1  $$2020-2021$$ </a>"
   ]
  },
  {
   "cell_type": "markdown",
   "metadata": {},
   "source": [
    "# <center style=\"color:#021E55\" >-- Mini Projet 1 Analyse Numérique --</center>"
   ]
  },
  {
   "cell_type": "markdown",
   "metadata": {},
   "source": [
    "## <p style=\"color:#4287f5\" >Partie Théorique  </p>"
   ]
  },
  {
   "cell_type": "markdown",
   "metadata": {},
   "source": [
    "#### <p style=\"color:#e320c2\" > Intégration numérique  : </p>"
   ]
  },
  {
   "cell_type": "markdown",
   "metadata": {},
   "source": [
    "L’intégration est un des problémes les plus importants que l’on rencontre en analyse. En eﬀet, on rencontre souvent des intégrales dont le calcul par des méthodes analytiques est trés compliqué ou meme impossible, car il n’existe pas d’expression analytique d’une primitive de la fonction à intégrer.\n",
    "\n",
    "Si f est une fonction continue sur un intervalle [a,b], bien souvent on ne sait pas calculer une primitive de f. Ainsi, si l'on désire obtenir la valeur de , il faut parfois se contenter d'obtenir une valeur approchée à l'aide d'une méthode d'intégration numérique. La plupart des méthodes d'intégration numérique fonctionnent sur le même principe. On commence par couper le gros intervalle [a,b] en N plus petits intervalles [ai,ai+1], avec a1=a et aN+1=b. Puis, pour chaque intervalle [ai,ai+1], on essaie d'approcher . Les moyens les plus simples sont :"
   ]
  },
  {
   "cell_type": "markdown",
   "metadata": {},
   "source": [
    "* Méthode du simpson\n",
    "* Méthode du trapéze \n",
    "* Méthode du point milieu\n",
    "* Méthode du rectangle \n",
    " \n"
   ]
  },
  {
   "cell_type": "markdown",
   "metadata": {},
   "source": [
    "#### <p style=\"color:#e320c2\" > Méthode  du simpson  : </p>"
   ]
  },
  {
   "attachments": {
    "image.png": {
     "image/png": "[encoded data removed]"
    }
   },
   "cell_type": "markdown",
   "metadata": {},
   "source": [
    "En interpolant f par un polynôme de degré 2 (3 degrés de liberté), 3 points (ou conditions) sont nécessaires pour le caractériser : les valeurs aux extrémités a, b, et celle choisie en leur milieu m = (a + b) / 2. La méthode de Simpson est basée sur un polynôme de degré 2 (intégrale d’une parabole), tout en restant exacte pour des polynômes de degré 3 ; elle est donc d’ordre 3 :\n",
    "\n",
    "![image.png](attachment:image.png)\n",
    "\n",
    "L’erreur globale est donnée par\n",
    "![image.png](attachment:image.png)\n",
    "Remarque : comme la méthode du point milieu qui caractérise un polynôme de degré 0 et qui reste exacte pour tout polynôme de degré 1, la méthode de Simpson caractérise un polynôme de degré 2 et reste exacte pour tout polynôme de degré 3. Il s’agit d’une sorte d’anomalie où se produisent des compensations bénéfiques à l’ordre de la méthode."
   ]
  },
  {
   "cell_type": "markdown",
   "metadata": {},
   "source": [
    "#### <p style=\"color:#e320c2\" > Méthode du trapèze  : </p>"
   ]
  },
  {
   "attachments": {
    "image.png": {
     "image/png": "[encoded data removed]"
    }
   },
   "cell_type": "markdown",
   "metadata": {},
   "source": [
    "En interpolant f par un polynôme de degré 1, les deux points d'interpolation (a, f (a)) et (b, f (b)) suffisent à tracer un segment dont l’intégrale correspond à l’aire d’un trapèze, justifiant le nom de méthode des trapèzes qui est d’ordre 1 :\n",
    "![image.png](attachment:image.png)\n",
    "L’erreur est donnée par\n",
    "![image.png](attachment:image.png)\n",
    "Conformément aux expressions de l’erreur, la méthode des trapèzes est souvent moins performante que celle du point milieu."
   ]
  },
  {
   "cell_type": "markdown",
   "metadata": {},
   "source": [
    "#### <p style=\"color:#e320c2\" > Méthode du point fixe : </p>"
   ]
  },
  {
   "cell_type": "markdown",
   "metadata": {},
   "source": [
    "Soit h le pas de temps. Notons Yn l'approximation obtenue à l'instant tn. Il s'agit d'obtenir Yn+1, l'approximation à l'instant tn+1=tn+h. La méthode d'Euler consiste à évaluer la dérivée à l'instant tn (c.a.d. f(Yn,tn)) puis à assimiler la courbe entre les instants tn et tn+1 à un segment de droite dont la pente est donnée par cette dérivée :\n",
    "\n",
    "Yn+1=Yn+hf(Yn,tn)\n",
    "La méthode du point milieu consiste à tout d'abord estimer Y à l'instant tn+h/2 puis à évaluer la dérivée en se servant de cette estimation; cette dérivée est alors utilisée pour calculer Yn+1. \n",
    "La méthode s'écrit :\n",
    "\n",
    "k1=hf(Yn,tn)  \n",
    "\n",
    "k2=hf(Yn+12 k1,tn+12h)    \n",
    "Yn+1=Yn+k2\n",
    "\n",
    "\n",
    "La méthode du point milieu nécessite deux calculs des dérivées (fonction f) à chaque pas de temps. C'est deux fois plus que la méthode d'Euler, mais ces calculs supplémentaires sont largement compensés par le fait que la méthode est d'ordre 2, c'est-à-dire que l'erreur évolue comme h2 lorsque le pas de temps est assez petit.\n",
    "\n",
    "La méthode du point milieu fait partie de la classe des méthodes de Runge-Kutta. Ces méthodes consistent à effectuer plusieurs évaluations successives de la dérivée dans l'intervalle [tn,tn+h] et à calculer Yn+1 comme une combinaison linéaire de ces dérivées. La méthode du point milieu est une méthode de Runge-Kutta d'ordre 2. Il existe des méthodes de Runge Kutta d'ordre plus élevé, la plus employée étant d'ordre 4. Il est d'usage d'écrire ces méthodes avec des coefficients ki, qui sont des évaluations des dérivées multipliées par le pas de temps."
   ]
  },
  {
   "cell_type": "markdown",
   "metadata": {},
   "source": [
    "#### <p style=\"color:#e320c2\" > Méthode de rectangle  : </p>"
   ]
  },
  {
   "attachments": {
    "image.png": {
     "image/png": "[encoded data removed]"
    }
   },
   "cell_type": "markdown",
   "metadata": {},
   "source": [
    "C’est la méthode la plus simple qui consiste à interpoler la fonction f à intégrer par une fonction constante (polynôme de degré 0).\n",
    "\n",
    "Si ξ est le point d’interpolation, la formule est la suivante :\n",
    "![image.png](attachment:image.png)\n",
    "Le choix de ξ influence l’erreur E(f) = I – I(f) :\n",
    "\n",
    "* Si ξ = a ou ξ = b, l’erreur est donnée par\n",
    "![image.png](attachment:image.png)\n",
    "C’est la méthode du rectangle qui est d’ordre 0.\n",
    "* Si ξ = (a + b)/2, l’erreur est donnée par\n",
    "![image.png](attachment:image.png)\n",
    "Il s’agit de la méthode du point milieu qui est d’ordre 1.\n",
    "Ainsi, le choix du point milieu améliore l’ordre de la méthode : celle du rectangle est exacte (c’est-à-dire E(f) = 0) pour les fonctions constantes alors que celle du point milieu est exacte pour les polynômes de degré 1. Ceci s’explique par le fait que l’écart d’intégration de la méthode du point milieu donne lieu à deux erreurs d’évaluation, de valeurs absolues égales et de signes opposés."
   ]
  },
  {
   "cell_type": "markdown",
   "metadata": {},
   "source": [
    "## <p style=\"color:#4287f5\" >Partie Partique  </p>"
   ]
  },
  {
   "cell_type": "code",
   "execution_count": 1,
   "metadata": {},
   "outputs": [
    {
     "name": "stdout",
     "output_type": "stream",
     "text": [
      "Collecting package metadata (current_repodata.json): done\n",
      "Solving environment: done\n",
      "\n",
      "## Package Plan ##\n",
      "\n",
      "  environment location: /srv/conda/envs/notebook\n",
      "\n",
      "  added / updated specs:\n",
      "    - ipympl\n",
      "\n",
      "\n",
      "The following packages will be downloaded:\n",
      "\n",
      "    package                    |            build\n",
      "    ---------------------------|-----------------\n",
      "    ca-certificates-2020.12.5  |       ha878542_0         137 KB  conda-forge\n",
      "    certifi-2020.12.5          |   py37h89c1867_0         143 KB  conda-forge\n",
      "    cycler-0.10.0              |             py_2           9 KB  conda-forge\n",
      "    freetype-2.10.4            |       h7ca028e_0         912 KB  conda-forge\n",
      "    ipympl-0.5.8               |     pyh9f0ad1d_0         506 KB  conda-forge\n",
      "    jpeg-9d                    |       h36c2ea0_0         264 KB  conda-forge\n",
      "    kiwisolver-1.3.1           |   py37hc928c03_0          86 KB  conda-forge\n",
      "    lcms2-2.11                 |       hcbb858e_1         434 KB  conda-forge\n",
      "    libblas-3.9.0              |       3_openblas          11 KB  conda-forge\n",
      "    libcblas-3.9.0             |       3_openblas          11 KB  conda-forge\n",
      "    libgcc-ng-9.3.0            |      h5dbcf3e_17         7.8 MB  conda-forge\n",
      "    libgfortran-ng-9.3.0       |      he4bcb1c_17          22 KB  conda-forge\n",
      "    libgfortran5-9.3.0         |      he4bcb1c_17         2.0 MB  conda-forge\n",
      "    libgomp-9.3.0              |      h5dbcf3e_17         378 KB  conda-forge\n",
      "    liblapack-3.9.0            |       3_openblas          11 KB  conda-forge\n",
      "    libopenblas-0.3.12         |pthreads_h4812303_1         8.9 MB  conda-forge\n",
      "    libpng-1.6.37              |       h21135ba_2         306 KB  conda-forge\n",
      "    libtiff-4.1.0              |       h4f3a223_6         618 KB  conda-forge\n",
      "    libwebp-base-1.1.0         |       h36c2ea0_3         864 KB  conda-forge\n",
      "    lz4-c-1.9.2                |       he1b5a44_3         203 KB  conda-forge\n",
      "    matplotlib-base-3.3.3      |   py37h4f6019d_0         6.7 MB  conda-forge\n",
      "    numpy-1.19.4               |   py37h7e9df27_1         5.2 MB  conda-forge\n",
      "    olefile-0.46               |     pyh9f0ad1d_1          32 KB  conda-forge\n",
      "    openssl-1.1.1i             |       h7f98852_0         2.1 MB  conda-forge\n",
      "    pillow-8.0.1               |   py37h63a5d19_0         689 KB  conda-forge\n",
      "    zstd-1.4.5                 |       h6597ccf_2         712 KB  conda-forge\n",
      "    ------------------------------------------------------------\n",
      "                                           Total:        38.9 MB\n",
      "\n",
      "The following NEW packages will be INSTALLED:\n",
      "\n",
      "  cycler             conda-forge/noarch::cycler-0.10.0-py_2\n",
      "  freetype           conda-forge/linux-64::freetype-2.10.4-h7ca028e_0\n",
      "  ipympl             conda-forge/noarch::ipympl-0.5.8-pyh9f0ad1d_0\n",
      "  jpeg               conda-forge/linux-64::jpeg-9d-h36c2ea0_0\n",
      "  kiwisolver         conda-forge/linux-64::kiwisolver-1.3.1-py37hc928c03_0\n",
      "  lcms2              conda-forge/linux-64::lcms2-2.11-hcbb858e_1\n",
      "  libblas            conda-forge/linux-64::libblas-3.9.0-3_openblas\n",
      "  libcblas           conda-forge/linux-64::libcblas-3.9.0-3_openblas\n",
      "  libgfortran-ng     conda-forge/linux-64::libgfortran-ng-9.3.0-he4bcb1c_17\n",
      "  libgfortran5       conda-forge/linux-64::libgfortran5-9.3.0-he4bcb1c_17\n",
      "  liblapack          conda-forge/linux-64::liblapack-3.9.0-3_openblas\n",
      "  libopenblas        conda-forge/linux-64::libopenblas-0.3.12-pthreads_h4812303_1\n",
      "  libpng             conda-forge/linux-64::libpng-1.6.37-h21135ba_2\n",
      "  libtiff            conda-forge/linux-64::libtiff-4.1.0-h4f3a223_6\n",
      "  libwebp-base       conda-forge/linux-64::libwebp-base-1.1.0-h36c2ea0_3\n",
      "  lz4-c              conda-forge/linux-64::lz4-c-1.9.2-he1b5a44_3\n",
      "  matplotlib-base    conda-forge/linux-64::matplotlib-base-3.3.3-py37h4f6019d_0\n",
      "  numpy              conda-forge/linux-64::numpy-1.19.4-py37h7e9df27_1\n",
      "  olefile            conda-forge/noarch::olefile-0.46-pyh9f0ad1d_1\n",
      "  pillow             conda-forge/linux-64::pillow-8.0.1-py37h63a5d19_0\n",
      "  zstd               conda-forge/linux-64::zstd-1.4.5-h6597ccf_2\n",
      "\n",
      "The following packages will be UPDATED:\n",
      "\n",
      "  ca-certificates                      2020.6.20-hecda079_0 --> 2020.12.5-ha878542_0\n",
      "  certifi                          2020.6.20-py37hc8dfbb8_0 --> 2020.12.5-py37h89c1867_0\n",
      "  libgcc-ng                                9.2.0-h24d8f2e_2 --> 9.3.0-h5dbcf3e_17\n",
      "  libgomp                                  9.2.0-h24d8f2e_2 --> 9.3.0-h5dbcf3e_17\n",
      "  openssl                                 1.1.1g-h516909a_0 --> 1.1.1i-h7f98852_0\n",
      "\n",
      "\n",
      "\n",
      "Downloading and Extracting Packages\n",
      "openssl-1.1.1i       | 2.1 MB    | ##################################### | 100% \n",
      "ipympl-0.5.8         | 506 KB    | ##################################### | 100% \n",
      "liblapack-3.9.0      | 11 KB     | ##################################### | 100% \n",
      "certifi-2020.12.5    | 143 KB    | ##################################### | 100% \n",
      "lcms2-2.11           | 434 KB    | ##################################### | 100% \n",
      "libtiff-4.1.0        | 618 KB    | ##################################### | 100% \n",
      "matplotlib-base-3.3. | 6.7 MB    | ##################################### | 100% \n",
      "libblas-3.9.0        | 11 KB     | ##################################### | 100% \n",
      "jpeg-9d              | 264 KB    | ##################################### | 100% \n",
      "libwebp-base-1.1.0   | 864 KB    | ##################################### | 100% \n",
      "ca-certificates-2020 | 137 KB    | ##################################### | 100% \n",
      "pillow-8.0.1         | 689 KB    | ##################################### | 100% \n",
      "libgfortran5-9.3.0   | 2.0 MB    | ##################################### | 100% \n",
      "zstd-1.4.5           | 712 KB    | ##################################### | 100% \n",
      "libcblas-3.9.0       | 11 KB     | ##################################### | 100% \n",
      "libgfortran-ng-9.3.0 | 22 KB     | ##################################### | 100% \n",
      "numpy-1.19.4         | 5.2 MB    | ##################################### | 100% \n",
      "libopenblas-0.3.12   | 8.9 MB    | ##################################### | 100% \n",
      "cycler-0.10.0        | 9 KB      | ##################################### | 100% \n",
      "olefile-0.46         | 32 KB     | ##################################### | 100% \n",
      "kiwisolver-1.3.1     | 86 KB     | ##################################### | 100% \n",
      "libpng-1.6.37        | 306 KB    | ##################################### | 100% \n",
      "libgcc-ng-9.3.0      | 7.8 MB    | ##################################### | 100% \n",
      "lz4-c-1.9.2          | 203 KB    | ##################################### | 100% \n",
      "freetype-2.10.4      | 912 KB    | ##################################### | 100% \n",
      "libgomp-9.3.0        | 378 KB    | ##################################### | 100% \n",
      "Preparing transaction: done\n",
      "Verifying transaction: done\n",
      "Executing transaction: done\n",
      "\n",
      "Note: you may need to restart the kernel to use updated packages.\n"
     ]
    }
   ],
   "source": [
    "conda install -c conda-forge ipympl"
   ]
  },
  {
   "cell_type": "code",
   "execution_count": 2,
   "metadata": {
    "scrolled": true
   },
   "outputs": [],
   "source": [
    "%matplotlib widget\n",
    "import ipywidgets as widgets\n",
    "import matplotlib.pyplot as plt\n",
    "import numpy as np\n",
    "from numpy import *"
   ]
  },
  {
   "cell_type": "code",
   "execution_count": 3,
   "metadata": {},
   "outputs": [],
   "source": [
    "class RectangleG ( object ) :\n",
    "    def __init__ (self , a , b , n , f ) :\n",
    "        self.a = a\n",
    "        self.b = b\n",
    "        self.x = np.linspace( a , b , n+1 )\n",
    "        self.f = f\n",
    "        self.n = n\n",
    "    def integrate ( self , f ) :\n",
    "        x= self.x\n",
    "        y= f( x )\n",
    "        h = float( x[1] - x[0] )\n",
    "        s = sum( y[ 0 : -1 ] )\n",
    "        return h * s\n",
    "    def Graph ( self , f , resolution =1001 ) :\n",
    "        xl = self.x\n",
    "        yl = f(xl)\n",
    "        xlist_fine =np.linspace( self.a , self.b , resolution )\n",
    "        for i in range ( self.n ) :\n",
    "            x_rect = [xl[ i ] , xl[ i ] , xl[ i + 1 ] , xl[i+1] , xl[ i ] ] # abscisses des sommets\n",
    "            y_rect = [0 , yl[ i ] , yl[ i ] , 0 , 0 ] # ordonnees des sommets\n",
    "            plt.plot ( x_rect , y_rect , 'r' )\n",
    "        yflist_fine = f ( xlist_fine )\n",
    "        plt.plot ( xlist_fine , yflist_fine )\n",
    "        plt.plot(xl, yl,\"bo\")\n",
    "        plt.xlabel ( 'x' )\n",
    "        plt.ylabel ( ' f ( x ) ' )\n",
    "        plt.title ( ' Methode des rectangles gauches' )\n",
    "        #plt.text( 0.5*( self.a+ self.b ) , f(self.b ) , 'I_{} ={:0.8f}'.format(self.n,self.integrate( f ) ) , fontsize =15 )   "
   ]
  },
  {
   "cell_type": "code",
   "execution_count": 4,
   "metadata": {},
   "outputs": [],
   "source": [
    "class Trapezoidal(object):\n",
    "    def __init__(self, a, b, n, f):\n",
    "        self.a = a\n",
    "        self.b = b\n",
    "        self.x = np.linspace(a, b, n+1)\n",
    "        self.f = f\n",
    "        self.n = n\n",
    "    def integrate(self,f):\n",
    "        x=self.x\n",
    "        y=f(x)\n",
    "        h = float(x[1] - x[0])\n",
    "        s = y[0] + y[-1] + 2.0*sum(y[1:-1])\n",
    "        return h * s / 2.0\n",
    "    def Graph(self,f,resolution=1001):\n",
    "        xl = self.x\n",
    "        yl = f(xl)\n",
    "        xlist_fine=np.linspace(self.a, self.b, resolution)\n",
    "        for i in range(self.n):\n",
    "            x_rect = [xl[i], xl[i], xl[i+1], xl[i+1], xl[i]] # abscisses des sommets\n",
    "            y_rect = [0   , yl[i], yl[i+1]  , 0     , 0   ] # ordonnees des sommets\n",
    "            plt.plot(x_rect, y_rect,\"m\")\n",
    "        yflist_fine = f(xlist_fine)\n",
    "        plt.plot(xlist_fine, yflist_fine)#plot de f(x)\n",
    "        plt.ylabel ( ' f ( x ) ' )\n",
    "        plt.title ( ' Methode des Trapèzes' )"
   ]
  },
  {
   "cell_type": "code",
   "execution_count": 5,
   "metadata": {},
   "outputs": [],
   "source": [
    "class Simpson(object):\n",
    "    def __init__(self, a, b, n, f):\n",
    "        self.a = a\n",
    "        self.b = b\n",
    "        self.x = np.linspace(a, b, n+1)\n",
    "        self.f = f\n",
    "        self.n = n\n",
    "    def integrate ( self , f ) :\n",
    "        x= self.x\n",
    "        y= f(x)\n",
    "        h = float(x[2] - x[1])\n",
    "        n = len(x) - 1\n",
    "        if n % 2 == 1 :\n",
    "            raise ValueError(\"N must be an even integer.\")\n",
    "        s = y[0] + y[n] + 4.0 * sum(y[1:-1:2]) + 2.0 * sum(y[2:-2:2])\n",
    "        return h * s / 3.0\n",
    "    def Graph(self , f , resolution =1001):\n",
    "        xl = self.x\n",
    "        yl = f(xl)\n",
    "        xlist_fine =np.linspace( self.a , self.b , resolution )\n",
    "        for i in range ( self.n ) :\n",
    "            xx = np.linspace(xl[ i ],xl[i + 1],resolution)\n",
    "            m = (xl[i]+ xl[i + 1])/ 2\n",
    "            a = xl[i]\n",
    "            b = xl[i +1]\n",
    "            l0  =(xx-m)/(a-m)*(xx-b)/(a-b)\n",
    "            l1 =(xx-a)/(m-a)*(xx-b)/(m-b)\n",
    "            l2 =(xx-a)/(b-a)*(xx-m)/(b-m)\n",
    "            P = f(a)*l0 + f(m)*l1 + f(b)*l2\n",
    "        plt.plot( xx , P , \"r\")\n",
    "        yflist_fine = f(xlist_fine)\n",
    "        plt.plot(xlist_fine, yflist_fine,\"g\")#plot de f(x)\n",
    "        plt.plot(xl, yl,'bo')#point support\n",
    "        plt.ylabel ( ' f ( x ) ' )\n",
    "        plt.title ( ' Simpson' )"
   ]
  },
  {
   "cell_type": "code",
   "execution_count": 6,
   "metadata": {},
   "outputs": [],
   "source": [
    "class PointMilieu(object):\n",
    "    def __init__(self, a, b, n, f):\n",
    "        self.a = a\n",
    "        self.b = b\n",
    "        self.x = np.linspace(a, b, n+1)\n",
    "        self.f = f\n",
    "        self.n = n\n",
    "    def integrate(self,f):\n",
    "        x=self.x\n",
    "        y=f(x)\n",
    "        h = float(x[1] - x[0])\n",
    "        s = 0\n",
    "        for i in range(self,n):\n",
    "            s=s+f((x[i]+x[i+1])*0.5)\n",
    "        return h * s\n",
    "    def Graph(self,f,resolution=1001):\n",
    "        xl = self.x\n",
    "        yl = f(xl)\n",
    "        xlist_fine=np.linspace(self.a, self.b, resolution)\n",
    "        for i in range(self.n):\n",
    "            m=(xl[i]+xl[i+1])/2\n",
    "            x_rect = [xl[i], xl[i], xl[i+1], xl[i+1], xl[i]] # abscisses des sommets\n",
    "            y_rect = [0   , f(m), f(m)  , 0     , 0   ] # ordonnees des sommets\n",
    "            plt.plot(x_rect, y_rect,\"r\")\n",
    "            plt.plot(m,f(m),\"bo\")\n",
    "        yflist_fine = f(xlist_fine)\n",
    "        plt.plot(xlist_fine, yflist_fine)#plot de f(x)\n",
    "        plt.xlabel ( ' x ' )\n",
    "        plt.ylabel ( ' f ( x ) ' )\n",
    "        plt.title ( ' Methode des milieu' )"
   ]
  },
  {
   "cell_type": "code",
   "execution_count": 7,
   "metadata": {},
   "outputs": [],
   "source": [
    "# create some control elements\n",
    "select=widgets.Dropdown(\n",
    "    options=[('Méthode des rectangles gauches',1),('Méthode des trapézes',2),('Méthode des Simpson',3),\n",
    "           ('Méthode des points Milieux',4)],\n",
    "    value=2,\n",
    "    description='Méthode:',\n",
    ")\n",
    "text_func = widgets.Text(value='cos(x)', description='Fonction', continuous_update=False)\n",
    "text_xlabel = widgets.Text(value='', description='xlabel', continuous_update=False)\n",
    "text_ylabel = widgets.Text(value='', description='ylabel', continuous_update=False)\n",
    "text_a = widgets.Text(value='-1', description='a', continuous_update=False)\n",
    "text_b = widgets.Text(value='1' , description='b', continuous_update=False)\n",
    "text_n = widgets.Text(value='' , description='n', continuous_update=False)\n",
    "text_integral=widgets.Text(value='' , description='I_n', continuous_update=False)\n",
    "button=widgets.Button(description=\"Calculer\")\n",
    "# callback functions\n",
    "def sim(b):\n",
    "    meth={1:RectangleG,2:Trapezoidal,3:Simpson,4:PointMilieu}\n",
    "    s=select.value\n",
    "    plt.cla()\n",
    "    function=lambda x:eval(text_func.value)\n",
    "    R=meth[s](float(text_a.value),float(text_b.value),int(text_n.value),function)\n",
    "    R.Graph(function)\n",
    "    text_integral.value=str(R.integrate(function))\n",
    "    text_integral.description=\"I_\"+text_n.value\n",
    "def update_a(change):\n",
    "    change.new\n",
    "def update_b(change):\n",
    "    change.new\n",
    "def update_n(change):\n",
    "    change.new\n",
    "def update_f(change):\n",
    "    change.new\n",
    "button.on_click(sim)\n",
    "text_func.observe(update_f,'value')\n",
    "text_a.observe(update_a,'value')\n",
    "text_b.observe(update_b,'value')"
   ]
  },
  {
   "cell_type": "code",
   "execution_count": 8,
   "metadata": {},
   "outputs": [],
   "source": [
    "output = widgets.Output()\n",
    "with output:\n",
    "    fig, ax = plt.subplots(constrained_layout=True, figsize=(6, 4))\n",
    "     \n",
    "# move the toolbar to the bottom\n",
    "fig.canvas.toolbar_position = 'bottom'\n"
   ]
  },
  {
   "cell_type": "code",
   "execution_count": 9,
   "metadata": {},
   "outputs": [
    {
     "data": {
      "application/vnd.jupyter.widget-view+json": {
       "model_id": "7b8e9b38a6f04eb8bc1e7c348a17be0e",
       "version_major": 2,
       "version_minor": 0
      },
      "text/plain": [
       "HBox(children=(VBox(children=(Dropdown(description='Méthode:', index=1, options=(('Méthode des rectangles gauc…"
      ]
     },
     "metadata": {},
     "output_type": "display_data"
    }
   ],
   "source": [
    "def make_box():\n",
    "    box1=widgets.VBox([select,text_func,text_a,text_b,text_n,button,text_integral])\n",
    "    box2=widgets.VBox([output])\n",
    "    return box1,box2\n",
    "layout=widgets.Layout(\n",
    "    border='solid 2px gray',\n",
    "    margin='0px 5px 5px 0px'\n",
    ")\n",
    "box1,box2=make_box()\n",
    "box1.layout=layout\n",
    "box2.layout=layout\n",
    "widgets.HBox([box1,box2])"
   ]
  },
  {
   "cell_type": "code",
   "execution_count": null,
   "metadata": {},
   "outputs": [],
   "source": []
  }
 ],
 "metadata": {
  "kernelspec": {
   "display_name": "Python 3",
   "language": "python",
   "name": "python3"
  },
  "language_info": {
   "codemirror_mode": {
    "name": "ipython",
    "version": 3
   },
   "file_extension": ".py",
   "mimetype": "text/x-python",
   "name": "python",
   "nbconvert_exporter": "python",
   "pygments_lexer": "ipython3",
   "version": "3.7.8"
  }
 },
 "nbformat": 4,
 "nbformat_minor": 4
}
